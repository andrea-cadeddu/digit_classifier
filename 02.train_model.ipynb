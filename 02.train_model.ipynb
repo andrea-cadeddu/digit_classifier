{
 "cells": [
  {
   "cell_type": "markdown",
   "id": "77ea1aba",
   "metadata": {},
   "source": [
    "**Import libraries**"
   ]
  },
  {
   "cell_type": "code",
   "execution_count": 1,
   "id": "53461fff",
   "metadata": {},
   "outputs": [],
   "source": [
    "from sklearn.datasets import load_digits\n",
    "\n",
    "from matplotlib import pyplot as plt\n",
    "\n",
    "from sklearn.model_selection import train_test_split\n",
    "from sklearn.model_selection import cross_val_score\n",
    "from sklearn.model_selection import StratifiedKFold\n",
    "from sklearn.model_selection import RandomizedSearchCV\n",
    "from sklearn.pipeline import Pipeline\n",
    "from sklearn.preprocessing import MinMaxScaler\n",
    "from sklearn.ensemble import RandomForestClassifier\n",
    "from sklearn.metrics import classification_report\n",
    "\n",
    "import joblib\n",
    "\n",
    "import warnings"
   ]
  },
  {
   "cell_type": "markdown",
   "id": "c8b2f58e",
   "metadata": {},
   "source": [
    "**Define libraries configurations**"
   ]
  },
  {
   "cell_type": "code",
   "execution_count": 2,
   "id": "fac747fe",
   "metadata": {},
   "outputs": [],
   "source": [
    "warnings.filterwarnings(action=\"ignore\")"
   ]
  },
  {
   "cell_type": "markdown",
   "id": "b5479713",
   "metadata": {},
   "source": [
    "**Define project constant variables**"
   ]
  },
  {
   "cell_type": "code",
   "execution_count": 3,
   "id": "09236e5b",
   "metadata": {},
   "outputs": [],
   "source": [
    "RANDOM_STATE = 42\n",
    "N_JOBS = -1"
   ]
  },
  {
   "cell_type": "markdown",
   "id": "4aa4f8b6",
   "metadata": {},
   "source": [
    "**Load input dataset**"
   ]
  },
  {
   "cell_type": "code",
   "execution_count": 4,
   "id": "5a0d40a2",
   "metadata": {},
   "outputs": [],
   "source": [
    "X, y = load_digits(return_X_y=True)"
   ]
  },
  {
   "cell_type": "markdown",
   "id": "80094eeb",
   "metadata": {},
   "source": [
    "**Split dataset into training and test sets**"
   ]
  },
  {
   "cell_type": "code",
   "execution_count": 5,
   "id": "f3bb7171",
   "metadata": {},
   "outputs": [],
   "source": [
    "X_train, X_test, y_train, y_test = train_test_split(X, y, test_size=0.2, random_state=RANDOM_STATE, stratify=y)"
   ]
  },
  {
   "cell_type": "markdown",
   "id": "9546358e",
   "metadata": {},
   "source": [
    "**Define base pipeline**"
   ]
  },
  {
   "cell_type": "code",
   "execution_count": 6,
   "id": "3236e8df",
   "metadata": {},
   "outputs": [
    {
     "data": {
      "text/html": [
       "<style>#sk-container-id-1 {color: black;background-color: white;}#sk-container-id-1 pre{padding: 0;}#sk-container-id-1 div.sk-toggleable {background-color: white;}#sk-container-id-1 label.sk-toggleable__label {cursor: pointer;display: block;width: 100%;margin-bottom: 0;padding: 0.3em;box-sizing: border-box;text-align: center;}#sk-container-id-1 label.sk-toggleable__label-arrow:before {content: \"▸\";float: left;margin-right: 0.25em;color: #696969;}#sk-container-id-1 label.sk-toggleable__label-arrow:hover:before {color: black;}#sk-container-id-1 div.sk-estimator:hover label.sk-toggleable__label-arrow:before {color: black;}#sk-container-id-1 div.sk-toggleable__content {max-height: 0;max-width: 0;overflow: hidden;text-align: left;background-color: #f0f8ff;}#sk-container-id-1 div.sk-toggleable__content pre {margin: 0.2em;color: black;border-radius: 0.25em;background-color: #f0f8ff;}#sk-container-id-1 input.sk-toggleable__control:checked~div.sk-toggleable__content {max-height: 200px;max-width: 100%;overflow: auto;}#sk-container-id-1 input.sk-toggleable__control:checked~label.sk-toggleable__label-arrow:before {content: \"▾\";}#sk-container-id-1 div.sk-estimator input.sk-toggleable__control:checked~label.sk-toggleable__label {background-color: #d4ebff;}#sk-container-id-1 div.sk-label input.sk-toggleable__control:checked~label.sk-toggleable__label {background-color: #d4ebff;}#sk-container-id-1 input.sk-hidden--visually {border: 0;clip: rect(1px 1px 1px 1px);clip: rect(1px, 1px, 1px, 1px);height: 1px;margin: -1px;overflow: hidden;padding: 0;position: absolute;width: 1px;}#sk-container-id-1 div.sk-estimator {font-family: monospace;background-color: #f0f8ff;border: 1px dotted black;border-radius: 0.25em;box-sizing: border-box;margin-bottom: 0.5em;}#sk-container-id-1 div.sk-estimator:hover {background-color: #d4ebff;}#sk-container-id-1 div.sk-parallel-item::after {content: \"\";width: 100%;border-bottom: 1px solid gray;flex-grow: 1;}#sk-container-id-1 div.sk-label:hover label.sk-toggleable__label {background-color: #d4ebff;}#sk-container-id-1 div.sk-serial::before {content: \"\";position: absolute;border-left: 1px solid gray;box-sizing: border-box;top: 0;bottom: 0;left: 50%;z-index: 0;}#sk-container-id-1 div.sk-serial {display: flex;flex-direction: column;align-items: center;background-color: white;padding-right: 0.2em;padding-left: 0.2em;position: relative;}#sk-container-id-1 div.sk-item {position: relative;z-index: 1;}#sk-container-id-1 div.sk-parallel {display: flex;align-items: stretch;justify-content: center;background-color: white;position: relative;}#sk-container-id-1 div.sk-item::before, #sk-container-id-1 div.sk-parallel-item::before {content: \"\";position: absolute;border-left: 1px solid gray;box-sizing: border-box;top: 0;bottom: 0;left: 50%;z-index: -1;}#sk-container-id-1 div.sk-parallel-item {display: flex;flex-direction: column;z-index: 1;position: relative;background-color: white;}#sk-container-id-1 div.sk-parallel-item:first-child::after {align-self: flex-end;width: 50%;}#sk-container-id-1 div.sk-parallel-item:last-child::after {align-self: flex-start;width: 50%;}#sk-container-id-1 div.sk-parallel-item:only-child::after {width: 0;}#sk-container-id-1 div.sk-dashed-wrapped {border: 1px dashed gray;margin: 0 0.4em 0.5em 0.4em;box-sizing: border-box;padding-bottom: 0.4em;background-color: white;}#sk-container-id-1 div.sk-label label {font-family: monospace;font-weight: bold;display: inline-block;line-height: 1.2em;}#sk-container-id-1 div.sk-label-container {text-align: center;}#sk-container-id-1 div.sk-container {/* jupyter's `normalize.less` sets `[hidden] { display: none; }` but bootstrap.min.css set `[hidden] { display: none !important; }` so we also need the `!important` here to be able to override the default hidden behavior on the sphinx rendered scikit-learn.org. See: https://github.com/scikit-learn/scikit-learn/issues/21755 */display: inline-block !important;position: relative;}#sk-container-id-1 div.sk-text-repr-fallback {display: none;}</style><div id=\"sk-container-id-1\" class=\"sk-top-container\"><div class=\"sk-text-repr-fallback\"><pre>Pipeline(steps=[(&#x27;Scaler&#x27;, MinMaxScaler()),\n",
       "                (&#x27;Model&#x27;,\n",
       "                 RandomForestClassifier(n_jobs=-1, oob_score=True,\n",
       "                                        random_state=42))])</pre><b>In a Jupyter environment, please rerun this cell to show the HTML representation or trust the notebook. <br />On GitHub, the HTML representation is unable to render, please try loading this page with nbviewer.org.</b></div><div class=\"sk-container\" hidden><div class=\"sk-item sk-dashed-wrapped\"><div class=\"sk-label-container\"><div class=\"sk-label sk-toggleable\"><input class=\"sk-toggleable__control sk-hidden--visually\" id=\"sk-estimator-id-1\" type=\"checkbox\" ><label for=\"sk-estimator-id-1\" class=\"sk-toggleable__label sk-toggleable__label-arrow\">Pipeline</label><div class=\"sk-toggleable__content\"><pre>Pipeline(steps=[(&#x27;Scaler&#x27;, MinMaxScaler()),\n",
       "                (&#x27;Model&#x27;,\n",
       "                 RandomForestClassifier(n_jobs=-1, oob_score=True,\n",
       "                                        random_state=42))])</pre></div></div></div><div class=\"sk-serial\"><div class=\"sk-item\"><div class=\"sk-estimator sk-toggleable\"><input class=\"sk-toggleable__control sk-hidden--visually\" id=\"sk-estimator-id-2\" type=\"checkbox\" ><label for=\"sk-estimator-id-2\" class=\"sk-toggleable__label sk-toggleable__label-arrow\">MinMaxScaler</label><div class=\"sk-toggleable__content\"><pre>MinMaxScaler()</pre></div></div></div><div class=\"sk-item\"><div class=\"sk-estimator sk-toggleable\"><input class=\"sk-toggleable__control sk-hidden--visually\" id=\"sk-estimator-id-3\" type=\"checkbox\" ><label for=\"sk-estimator-id-3\" class=\"sk-toggleable__label sk-toggleable__label-arrow\">RandomForestClassifier</label><div class=\"sk-toggleable__content\"><pre>RandomForestClassifier(n_jobs=-1, oob_score=True, random_state=42)</pre></div></div></div></div></div></div></div>"
      ],
      "text/plain": [
       "Pipeline(steps=[('Scaler', MinMaxScaler()),\n",
       "                ('Model',\n",
       "                 RandomForestClassifier(n_jobs=-1, oob_score=True,\n",
       "                                        random_state=42))])"
      ]
     },
     "execution_count": 6,
     "metadata": {},
     "output_type": "execute_result"
    }
   ],
   "source": [
    "base_pipeline = Pipeline(\n",
    "    steps=[\n",
    "        (\"Scaler\", MinMaxScaler()),\n",
    "        (\"Model\", RandomForestClassifier(oob_score=True, n_jobs=N_JOBS, random_state=RANDOM_STATE))\n",
    "    ]\n",
    ")\n",
    "base_pipeline"
   ]
  },
  {
   "cell_type": "markdown",
   "id": "fdd86ed3",
   "metadata": {},
   "source": [
    "**Perform cross validation on pipeline**"
   ]
  },
  {
   "cell_type": "code",
   "execution_count": 7,
   "id": "2d2d693e",
   "metadata": {},
   "outputs": [
    {
     "name": "stderr",
     "output_type": "stream",
     "text": [
      "[Parallel(n_jobs=-1)]: Using backend LokyBackend with 16 concurrent workers.\n",
      "[Parallel(n_jobs=-1)]: Done  10 out of  10 | elapsed:    3.6s finished\n"
     ]
    },
    {
     "data": {
      "text/plain": [
       "array([0.96527778, 0.98611111, 0.97222222, 0.98611111, 0.97222222,\n",
       "       0.99305556, 0.96527778, 0.97202797, 0.97902098, 0.97902098])"
      ]
     },
     "execution_count": 7,
     "metadata": {},
     "output_type": "execute_result"
    }
   ],
   "source": [
    "skfold = StratifiedKFold(n_splits=10, shuffle=True, random_state=42)\n",
    "\n",
    "base_cv_scores = cross_val_score(estimator=base_pipeline, X=X_train, y=y_train, \n",
    "                                 scoring=\"accuracy\", cv=skfold, n_jobs=N_JOBS, verbose=1)\n",
    "base_cv_scores"
   ]
  },
  {
   "cell_type": "markdown",
   "id": "508f7b2a",
   "metadata": {},
   "source": [
    "**Get cross validation results**"
   ]
  },
  {
   "cell_type": "code",
   "execution_count": 8,
   "id": "b1c4cbd1",
   "metadata": {
    "scrolled": true
   },
   "outputs": [
    {
     "name": "stdout",
     "output_type": "stream",
     "text": [
      "Mean CV accuracy: 0.9770 +/- 0.0088\n"
     ]
    }
   ],
   "source": [
    "print(f\"Mean CV accuracy: {base_cv_scores.mean():.4f} +/- {base_cv_scores.std():.4f}\")"
   ]
  },
  {
   "cell_type": "markdown",
   "id": "ac125344",
   "metadata": {},
   "source": [
    "**Get pipeline parameters, to use for parameters optimization**"
   ]
  },
  {
   "cell_type": "code",
   "execution_count": 9,
   "id": "96edffbf",
   "metadata": {
    "scrolled": true
   },
   "outputs": [
    {
     "data": {
      "text/plain": [
       "{'memory': None,\n",
       " 'steps': [('Scaler', MinMaxScaler()),\n",
       "  ('Model',\n",
       "   RandomForestClassifier(n_jobs=-1, oob_score=True, random_state=42))],\n",
       " 'verbose': False,\n",
       " 'Scaler': MinMaxScaler(),\n",
       " 'Model': RandomForestClassifier(n_jobs=-1, oob_score=True, random_state=42),\n",
       " 'Scaler__clip': False,\n",
       " 'Scaler__copy': True,\n",
       " 'Scaler__feature_range': (0, 1),\n",
       " 'Model__bootstrap': True,\n",
       " 'Model__ccp_alpha': 0.0,\n",
       " 'Model__class_weight': None,\n",
       " 'Model__criterion': 'gini',\n",
       " 'Model__max_depth': None,\n",
       " 'Model__max_features': 'sqrt',\n",
       " 'Model__max_leaf_nodes': None,\n",
       " 'Model__max_samples': None,\n",
       " 'Model__min_impurity_decrease': 0.0,\n",
       " 'Model__min_samples_leaf': 1,\n",
       " 'Model__min_samples_split': 2,\n",
       " 'Model__min_weight_fraction_leaf': 0.0,\n",
       " 'Model__n_estimators': 100,\n",
       " 'Model__n_jobs': -1,\n",
       " 'Model__oob_score': True,\n",
       " 'Model__random_state': 42,\n",
       " 'Model__verbose': 0,\n",
       " 'Model__warm_start': False}"
      ]
     },
     "execution_count": 9,
     "metadata": {},
     "output_type": "execute_result"
    }
   ],
   "source": [
    "base_pipeline.get_params()"
   ]
  },
  {
   "cell_type": "markdown",
   "id": "36fe6f64",
   "metadata": {},
   "source": [
    "**Perform parameters optimization with random search**"
   ]
  },
  {
   "cell_type": "code",
   "execution_count": 10,
   "id": "0cd51167",
   "metadata": {},
   "outputs": [
    {
     "name": "stdout",
     "output_type": "stream",
     "text": [
      "Fitting 10 folds for each of 20 candidates, totalling 200 fits\n"
     ]
    },
    {
     "data": {
      "text/html": [
       "<style>#sk-container-id-2 {color: black;background-color: white;}#sk-container-id-2 pre{padding: 0;}#sk-container-id-2 div.sk-toggleable {background-color: white;}#sk-container-id-2 label.sk-toggleable__label {cursor: pointer;display: block;width: 100%;margin-bottom: 0;padding: 0.3em;box-sizing: border-box;text-align: center;}#sk-container-id-2 label.sk-toggleable__label-arrow:before {content: \"▸\";float: left;margin-right: 0.25em;color: #696969;}#sk-container-id-2 label.sk-toggleable__label-arrow:hover:before {color: black;}#sk-container-id-2 div.sk-estimator:hover label.sk-toggleable__label-arrow:before {color: black;}#sk-container-id-2 div.sk-toggleable__content {max-height: 0;max-width: 0;overflow: hidden;text-align: left;background-color: #f0f8ff;}#sk-container-id-2 div.sk-toggleable__content pre {margin: 0.2em;color: black;border-radius: 0.25em;background-color: #f0f8ff;}#sk-container-id-2 input.sk-toggleable__control:checked~div.sk-toggleable__content {max-height: 200px;max-width: 100%;overflow: auto;}#sk-container-id-2 input.sk-toggleable__control:checked~label.sk-toggleable__label-arrow:before {content: \"▾\";}#sk-container-id-2 div.sk-estimator input.sk-toggleable__control:checked~label.sk-toggleable__label {background-color: #d4ebff;}#sk-container-id-2 div.sk-label input.sk-toggleable__control:checked~label.sk-toggleable__label {background-color: #d4ebff;}#sk-container-id-2 input.sk-hidden--visually {border: 0;clip: rect(1px 1px 1px 1px);clip: rect(1px, 1px, 1px, 1px);height: 1px;margin: -1px;overflow: hidden;padding: 0;position: absolute;width: 1px;}#sk-container-id-2 div.sk-estimator {font-family: monospace;background-color: #f0f8ff;border: 1px dotted black;border-radius: 0.25em;box-sizing: border-box;margin-bottom: 0.5em;}#sk-container-id-2 div.sk-estimator:hover {background-color: #d4ebff;}#sk-container-id-2 div.sk-parallel-item::after {content: \"\";width: 100%;border-bottom: 1px solid gray;flex-grow: 1;}#sk-container-id-2 div.sk-label:hover label.sk-toggleable__label {background-color: #d4ebff;}#sk-container-id-2 div.sk-serial::before {content: \"\";position: absolute;border-left: 1px solid gray;box-sizing: border-box;top: 0;bottom: 0;left: 50%;z-index: 0;}#sk-container-id-2 div.sk-serial {display: flex;flex-direction: column;align-items: center;background-color: white;padding-right: 0.2em;padding-left: 0.2em;position: relative;}#sk-container-id-2 div.sk-item {position: relative;z-index: 1;}#sk-container-id-2 div.sk-parallel {display: flex;align-items: stretch;justify-content: center;background-color: white;position: relative;}#sk-container-id-2 div.sk-item::before, #sk-container-id-2 div.sk-parallel-item::before {content: \"\";position: absolute;border-left: 1px solid gray;box-sizing: border-box;top: 0;bottom: 0;left: 50%;z-index: -1;}#sk-container-id-2 div.sk-parallel-item {display: flex;flex-direction: column;z-index: 1;position: relative;background-color: white;}#sk-container-id-2 div.sk-parallel-item:first-child::after {align-self: flex-end;width: 50%;}#sk-container-id-2 div.sk-parallel-item:last-child::after {align-self: flex-start;width: 50%;}#sk-container-id-2 div.sk-parallel-item:only-child::after {width: 0;}#sk-container-id-2 div.sk-dashed-wrapped {border: 1px dashed gray;margin: 0 0.4em 0.5em 0.4em;box-sizing: border-box;padding-bottom: 0.4em;background-color: white;}#sk-container-id-2 div.sk-label label {font-family: monospace;font-weight: bold;display: inline-block;line-height: 1.2em;}#sk-container-id-2 div.sk-label-container {text-align: center;}#sk-container-id-2 div.sk-container {/* jupyter's `normalize.less` sets `[hidden] { display: none; }` but bootstrap.min.css set `[hidden] { display: none !important; }` so we also need the `!important` here to be able to override the default hidden behavior on the sphinx rendered scikit-learn.org. See: https://github.com/scikit-learn/scikit-learn/issues/21755 */display: inline-block !important;position: relative;}#sk-container-id-2 div.sk-text-repr-fallback {display: none;}</style><div id=\"sk-container-id-2\" class=\"sk-top-container\"><div class=\"sk-text-repr-fallback\"><pre>RandomizedSearchCV(cv=StratifiedKFold(n_splits=10, random_state=42, shuffle=True),\n",
       "                   estimator=Pipeline(steps=[(&#x27;Scaler&#x27;, MinMaxScaler()),\n",
       "                                             (&#x27;Model&#x27;,\n",
       "                                              RandomForestClassifier(n_jobs=-1,\n",
       "                                                                     oob_score=True,\n",
       "                                                                     random_state=42))]),\n",
       "                   n_iter=20, n_jobs=-1,\n",
       "                   param_distributions={&#x27;Model__class_weight&#x27;: [None,\n",
       "                                                                &#x27;balanced&#x27;,\n",
       "                                                                &#x27;balanced_subsample&#x27;],\n",
       "                                        &#x27;Model__criterion&#x27;: [&#x27;gini&#x27;, &#x27;entropy&#x27;],\n",
       "                                        &#x27;Model__max_depth&#x27;: [None, 1, 2, 5, 10,\n",
       "                                                             20],\n",
       "                                        &#x27;Model__max_features&#x27;: [&#x27;sqrt&#x27;, &#x27;log2&#x27;],\n",
       "                                        &#x27;Model__n_estimators&#x27;: [25, 50, 100,\n",
       "                                                                200, 250,\n",
       "                                                                500]},\n",
       "                   random_state=42, scoring=&#x27;accuracy&#x27;, verbose=1)</pre><b>In a Jupyter environment, please rerun this cell to show the HTML representation or trust the notebook. <br />On GitHub, the HTML representation is unable to render, please try loading this page with nbviewer.org.</b></div><div class=\"sk-container\" hidden><div class=\"sk-item sk-dashed-wrapped\"><div class=\"sk-label-container\"><div class=\"sk-label sk-toggleable\"><input class=\"sk-toggleable__control sk-hidden--visually\" id=\"sk-estimator-id-4\" type=\"checkbox\" ><label for=\"sk-estimator-id-4\" class=\"sk-toggleable__label sk-toggleable__label-arrow\">RandomizedSearchCV</label><div class=\"sk-toggleable__content\"><pre>RandomizedSearchCV(cv=StratifiedKFold(n_splits=10, random_state=42, shuffle=True),\n",
       "                   estimator=Pipeline(steps=[(&#x27;Scaler&#x27;, MinMaxScaler()),\n",
       "                                             (&#x27;Model&#x27;,\n",
       "                                              RandomForestClassifier(n_jobs=-1,\n",
       "                                                                     oob_score=True,\n",
       "                                                                     random_state=42))]),\n",
       "                   n_iter=20, n_jobs=-1,\n",
       "                   param_distributions={&#x27;Model__class_weight&#x27;: [None,\n",
       "                                                                &#x27;balanced&#x27;,\n",
       "                                                                &#x27;balanced_subsample&#x27;],\n",
       "                                        &#x27;Model__criterion&#x27;: [&#x27;gini&#x27;, &#x27;entropy&#x27;],\n",
       "                                        &#x27;Model__max_depth&#x27;: [None, 1, 2, 5, 10,\n",
       "                                                             20],\n",
       "                                        &#x27;Model__max_features&#x27;: [&#x27;sqrt&#x27;, &#x27;log2&#x27;],\n",
       "                                        &#x27;Model__n_estimators&#x27;: [25, 50, 100,\n",
       "                                                                200, 250,\n",
       "                                                                500]},\n",
       "                   random_state=42, scoring=&#x27;accuracy&#x27;, verbose=1)</pre></div></div></div><div class=\"sk-parallel\"><div class=\"sk-parallel-item\"><div class=\"sk-item\"><div class=\"sk-label-container\"><div class=\"sk-label sk-toggleable\"><input class=\"sk-toggleable__control sk-hidden--visually\" id=\"sk-estimator-id-5\" type=\"checkbox\" ><label for=\"sk-estimator-id-5\" class=\"sk-toggleable__label sk-toggleable__label-arrow\">estimator: Pipeline</label><div class=\"sk-toggleable__content\"><pre>Pipeline(steps=[(&#x27;Scaler&#x27;, MinMaxScaler()),\n",
       "                (&#x27;Model&#x27;,\n",
       "                 RandomForestClassifier(n_jobs=-1, oob_score=True,\n",
       "                                        random_state=42))])</pre></div></div></div><div class=\"sk-serial\"><div class=\"sk-item\"><div class=\"sk-serial\"><div class=\"sk-item\"><div class=\"sk-estimator sk-toggleable\"><input class=\"sk-toggleable__control sk-hidden--visually\" id=\"sk-estimator-id-6\" type=\"checkbox\" ><label for=\"sk-estimator-id-6\" class=\"sk-toggleable__label sk-toggleable__label-arrow\">MinMaxScaler</label><div class=\"sk-toggleable__content\"><pre>MinMaxScaler()</pre></div></div></div><div class=\"sk-item\"><div class=\"sk-estimator sk-toggleable\"><input class=\"sk-toggleable__control sk-hidden--visually\" id=\"sk-estimator-id-7\" type=\"checkbox\" ><label for=\"sk-estimator-id-7\" class=\"sk-toggleable__label sk-toggleable__label-arrow\">RandomForestClassifier</label><div class=\"sk-toggleable__content\"><pre>RandomForestClassifier(n_jobs=-1, oob_score=True, random_state=42)</pre></div></div></div></div></div></div></div></div></div></div></div></div>"
      ],
      "text/plain": [
       "RandomizedSearchCV(cv=StratifiedKFold(n_splits=10, random_state=42, shuffle=True),\n",
       "                   estimator=Pipeline(steps=[('Scaler', MinMaxScaler()),\n",
       "                                             ('Model',\n",
       "                                              RandomForestClassifier(n_jobs=-1,\n",
       "                                                                     oob_score=True,\n",
       "                                                                     random_state=42))]),\n",
       "                   n_iter=20, n_jobs=-1,\n",
       "                   param_distributions={'Model__class_weight': [None,\n",
       "                                                                'balanced',\n",
       "                                                                'balanced_subsample'],\n",
       "                                        'Model__criterion': ['gini', 'entropy'],\n",
       "                                        'Model__max_depth': [None, 1, 2, 5, 10,\n",
       "                                                             20],\n",
       "                                        'Model__max_features': ['sqrt', 'log2'],\n",
       "                                        'Model__n_estimators': [25, 50, 100,\n",
       "                                                                200, 250,\n",
       "                                                                500]},\n",
       "                   random_state=42, scoring='accuracy', verbose=1)"
      ]
     },
     "execution_count": 10,
     "metadata": {},
     "output_type": "execute_result"
    }
   ],
   "source": [
    "params = {\n",
    "    \"Model__n_estimators\": [25, 50, 100, 200, 250, 500],\n",
    "    \"Model__criterion\": [\"gini\", \"entropy\"],\n",
    "    \"Model__max_depth\": [None, 1, 2, 5, 10, 20],\n",
    "    \"Model__max_features\": [\"sqrt\", \"log2\"],\n",
    "    \"Model__class_weight\": [None, \"balanced\", \"balanced_subsample\"]\n",
    "}\n",
    "\n",
    "random_search = RandomizedSearchCV(estimator=base_pipeline, param_distributions=params, n_iter=20, \n",
    "                                   scoring=\"accuracy\", n_jobs=N_JOBS, cv=skfold, verbose=1, random_state=RANDOM_STATE)\n",
    "random_search.fit(X=X_train, y=y_train)"
   ]
  },
  {
   "cell_type": "markdown",
   "id": "7118745b",
   "metadata": {},
   "source": [
    "**Get random search best parameters and validation scores**"
   ]
  },
  {
   "cell_type": "code",
   "execution_count": 11,
   "id": "d997f506",
   "metadata": {},
   "outputs": [
    {
     "data": {
      "text/plain": [
       "{'Model__n_estimators': 200,\n",
       " 'Model__max_features': 'log2',\n",
       " 'Model__max_depth': None,\n",
       " 'Model__criterion': 'gini',\n",
       " 'Model__class_weight': None}"
      ]
     },
     "execution_count": 11,
     "metadata": {},
     "output_type": "execute_result"
    }
   ],
   "source": [
    "random_search.best_params_"
   ]
  },
  {
   "cell_type": "code",
   "execution_count": 12,
   "id": "8764bf85",
   "metadata": {},
   "outputs": [
    {
     "data": {
      "text/plain": [
       "0.9777389277389277"
      ]
     },
     "execution_count": 12,
     "metadata": {},
     "output_type": "execute_result"
    }
   ],
   "source": [
    "random_search.best_score_"
   ]
  },
  {
   "cell_type": "markdown",
   "id": "ce7076cf",
   "metadata": {},
   "source": [
    "**Define pipeline with the best parameters**"
   ]
  },
  {
   "cell_type": "code",
   "execution_count": 13,
   "id": "683d3dca",
   "metadata": {},
   "outputs": [
    {
     "data": {
      "text/html": [
       "<style>#sk-container-id-3 {color: black;background-color: white;}#sk-container-id-3 pre{padding: 0;}#sk-container-id-3 div.sk-toggleable {background-color: white;}#sk-container-id-3 label.sk-toggleable__label {cursor: pointer;display: block;width: 100%;margin-bottom: 0;padding: 0.3em;box-sizing: border-box;text-align: center;}#sk-container-id-3 label.sk-toggleable__label-arrow:before {content: \"▸\";float: left;margin-right: 0.25em;color: #696969;}#sk-container-id-3 label.sk-toggleable__label-arrow:hover:before {color: black;}#sk-container-id-3 div.sk-estimator:hover label.sk-toggleable__label-arrow:before {color: black;}#sk-container-id-3 div.sk-toggleable__content {max-height: 0;max-width: 0;overflow: hidden;text-align: left;background-color: #f0f8ff;}#sk-container-id-3 div.sk-toggleable__content pre {margin: 0.2em;color: black;border-radius: 0.25em;background-color: #f0f8ff;}#sk-container-id-3 input.sk-toggleable__control:checked~div.sk-toggleable__content {max-height: 200px;max-width: 100%;overflow: auto;}#sk-container-id-3 input.sk-toggleable__control:checked~label.sk-toggleable__label-arrow:before {content: \"▾\";}#sk-container-id-3 div.sk-estimator input.sk-toggleable__control:checked~label.sk-toggleable__label {background-color: #d4ebff;}#sk-container-id-3 div.sk-label input.sk-toggleable__control:checked~label.sk-toggleable__label {background-color: #d4ebff;}#sk-container-id-3 input.sk-hidden--visually {border: 0;clip: rect(1px 1px 1px 1px);clip: rect(1px, 1px, 1px, 1px);height: 1px;margin: -1px;overflow: hidden;padding: 0;position: absolute;width: 1px;}#sk-container-id-3 div.sk-estimator {font-family: monospace;background-color: #f0f8ff;border: 1px dotted black;border-radius: 0.25em;box-sizing: border-box;margin-bottom: 0.5em;}#sk-container-id-3 div.sk-estimator:hover {background-color: #d4ebff;}#sk-container-id-3 div.sk-parallel-item::after {content: \"\";width: 100%;border-bottom: 1px solid gray;flex-grow: 1;}#sk-container-id-3 div.sk-label:hover label.sk-toggleable__label {background-color: #d4ebff;}#sk-container-id-3 div.sk-serial::before {content: \"\";position: absolute;border-left: 1px solid gray;box-sizing: border-box;top: 0;bottom: 0;left: 50%;z-index: 0;}#sk-container-id-3 div.sk-serial {display: flex;flex-direction: column;align-items: center;background-color: white;padding-right: 0.2em;padding-left: 0.2em;position: relative;}#sk-container-id-3 div.sk-item {position: relative;z-index: 1;}#sk-container-id-3 div.sk-parallel {display: flex;align-items: stretch;justify-content: center;background-color: white;position: relative;}#sk-container-id-3 div.sk-item::before, #sk-container-id-3 div.sk-parallel-item::before {content: \"\";position: absolute;border-left: 1px solid gray;box-sizing: border-box;top: 0;bottom: 0;left: 50%;z-index: -1;}#sk-container-id-3 div.sk-parallel-item {display: flex;flex-direction: column;z-index: 1;position: relative;background-color: white;}#sk-container-id-3 div.sk-parallel-item:first-child::after {align-self: flex-end;width: 50%;}#sk-container-id-3 div.sk-parallel-item:last-child::after {align-self: flex-start;width: 50%;}#sk-container-id-3 div.sk-parallel-item:only-child::after {width: 0;}#sk-container-id-3 div.sk-dashed-wrapped {border: 1px dashed gray;margin: 0 0.4em 0.5em 0.4em;box-sizing: border-box;padding-bottom: 0.4em;background-color: white;}#sk-container-id-3 div.sk-label label {font-family: monospace;font-weight: bold;display: inline-block;line-height: 1.2em;}#sk-container-id-3 div.sk-label-container {text-align: center;}#sk-container-id-3 div.sk-container {/* jupyter's `normalize.less` sets `[hidden] { display: none; }` but bootstrap.min.css set `[hidden] { display: none !important; }` so we also need the `!important` here to be able to override the default hidden behavior on the sphinx rendered scikit-learn.org. See: https://github.com/scikit-learn/scikit-learn/issues/21755 */display: inline-block !important;position: relative;}#sk-container-id-3 div.sk-text-repr-fallback {display: none;}</style><div id=\"sk-container-id-3\" class=\"sk-top-container\"><div class=\"sk-text-repr-fallback\"><pre>Pipeline(steps=[(&#x27;Scaler&#x27;, MinMaxScaler()),\n",
       "                (&#x27;Model&#x27;,\n",
       "                 RandomForestClassifier(max_features=&#x27;log2&#x27;, n_estimators=200,\n",
       "                                        n_jobs=-1, oob_score=True,\n",
       "                                        random_state=42))])</pre><b>In a Jupyter environment, please rerun this cell to show the HTML representation or trust the notebook. <br />On GitHub, the HTML representation is unable to render, please try loading this page with nbviewer.org.</b></div><div class=\"sk-container\" hidden><div class=\"sk-item sk-dashed-wrapped\"><div class=\"sk-label-container\"><div class=\"sk-label sk-toggleable\"><input class=\"sk-toggleable__control sk-hidden--visually\" id=\"sk-estimator-id-8\" type=\"checkbox\" ><label for=\"sk-estimator-id-8\" class=\"sk-toggleable__label sk-toggleable__label-arrow\">Pipeline</label><div class=\"sk-toggleable__content\"><pre>Pipeline(steps=[(&#x27;Scaler&#x27;, MinMaxScaler()),\n",
       "                (&#x27;Model&#x27;,\n",
       "                 RandomForestClassifier(max_features=&#x27;log2&#x27;, n_estimators=200,\n",
       "                                        n_jobs=-1, oob_score=True,\n",
       "                                        random_state=42))])</pre></div></div></div><div class=\"sk-serial\"><div class=\"sk-item\"><div class=\"sk-estimator sk-toggleable\"><input class=\"sk-toggleable__control sk-hidden--visually\" id=\"sk-estimator-id-9\" type=\"checkbox\" ><label for=\"sk-estimator-id-9\" class=\"sk-toggleable__label sk-toggleable__label-arrow\">MinMaxScaler</label><div class=\"sk-toggleable__content\"><pre>MinMaxScaler()</pre></div></div></div><div class=\"sk-item\"><div class=\"sk-estimator sk-toggleable\"><input class=\"sk-toggleable__control sk-hidden--visually\" id=\"sk-estimator-id-10\" type=\"checkbox\" ><label for=\"sk-estimator-id-10\" class=\"sk-toggleable__label sk-toggleable__label-arrow\">RandomForestClassifier</label><div class=\"sk-toggleable__content\"><pre>RandomForestClassifier(max_features=&#x27;log2&#x27;, n_estimators=200, n_jobs=-1,\n",
       "                       oob_score=True, random_state=42)</pre></div></div></div></div></div></div></div>"
      ],
      "text/plain": [
       "Pipeline(steps=[('Scaler', MinMaxScaler()),\n",
       "                ('Model',\n",
       "                 RandomForestClassifier(max_features='log2', n_estimators=200,\n",
       "                                        n_jobs=-1, oob_score=True,\n",
       "                                        random_state=42))])"
      ]
     },
     "execution_count": 13,
     "metadata": {},
     "output_type": "execute_result"
    }
   ],
   "source": [
    "best_pipeline = Pipeline(\n",
    "    steps=[\n",
    "        (\"Scaler\", MinMaxScaler()),\n",
    "        (\"Model\", RandomForestClassifier(n_estimators=200, max_features=\"log2\", oob_score=True, n_jobs=N_JOBS, random_state=RANDOM_STATE))\n",
    "    ]\n",
    ")\n",
    "best_pipeline.fit(X=X_train, y=y_train)"
   ]
  },
  {
   "cell_type": "markdown",
   "id": "d7e7eec8",
   "metadata": {},
   "source": [
    "**Perform cross validation on new pipeline**"
   ]
  },
  {
   "cell_type": "code",
   "execution_count": 14,
   "id": "ed74ea52",
   "metadata": {},
   "outputs": [
    {
     "name": "stderr",
     "output_type": "stream",
     "text": [
      "[Parallel(n_jobs=-1)]: Using backend LokyBackend with 16 concurrent workers.\n",
      "[Parallel(n_jobs=-1)]: Done  10 out of  10 | elapsed:    1.0s finished\n"
     ]
    },
    {
     "data": {
      "text/plain": [
       "array([0.95833333, 0.99305556, 0.97916667, 0.97916667, 0.97222222,\n",
       "       0.99305556, 0.95833333, 0.97902098, 0.97902098, 0.98601399])"
      ]
     },
     "execution_count": 14,
     "metadata": {},
     "output_type": "execute_result"
    }
   ],
   "source": [
    "best_cv_scores = cross_val_score(estimator=best_pipeline, X=X_train, y=y_train, \n",
    "                                 scoring=\"accuracy\", cv=skfold, n_jobs=N_JOBS, verbose=1)\n",
    "best_cv_scores"
   ]
  },
  {
   "cell_type": "markdown",
   "id": "508f7b2a",
   "metadata": {},
   "source": [
    "**Get cross validation results**"
   ]
  },
  {
   "cell_type": "code",
   "execution_count": 15,
   "id": "b1c4cbd1",
   "metadata": {
    "scrolled": true
   },
   "outputs": [
    {
     "name": "stdout",
     "output_type": "stream",
     "text": [
      "Mean CV accuracy: 0.9777 +/- 0.0115\n"
     ]
    }
   ],
   "source": [
    "print(f\"Mean CV accuracy: {best_cv_scores.mean():.4f} +/- {best_cv_scores.std():.4f}\")"
   ]
  },
  {
   "cell_type": "code",
   "execution_count": 16,
   "id": "707887e2",
   "metadata": {},
   "outputs": [
    {
     "data": {
      "image/png": "[encoded data removed]",
      "text/plain": [
       "<Figure size 600x400 with 1 Axes>"
      ]
     },
     "metadata": {},
     "output_type": "display_data"
    }
   ],
   "source": [
    "plt.figure(figsize=(6, 4))\n",
    "plt.title(\"CV model scores\")\n",
    "plt.plot(base_cv_scores, marker=\"o\")\n",
    "plt.plot(best_cv_scores, marker=\"o\")\n",
    "plt.xticks(ticks=range(1, 11))\n",
    "plt.xlabel(\"fold\")\n",
    "plt.ylabel(\"accuracy\")\n",
    "plt.legend([\"Base model\", \"Best model\"])\n",
    "plt.tight_layout()\n",
    "plt.grid()\n",
    "plt.show()"
   ]
  },
  {
   "cell_type": "markdown",
   "id": "5bcd2634",
   "metadata": {},
   "source": [
    "**Compute pipeline predictions on test set**"
   ]
  },
  {
   "cell_type": "code",
   "execution_count": 17,
   "id": "2e701c73",
   "metadata": {},
   "outputs": [],
   "source": [
    "y_pred = best_pipeline.predict(X=X_test)"
   ]
  },
  {
   "cell_type": "markdown",
   "id": "a5b61206",
   "metadata": {},
   "source": [
    "**Compute classification metrics on test set**"
   ]
  },
  {
   "cell_type": "code",
   "execution_count": 18,
   "id": "415b0297",
   "metadata": {},
   "outputs": [
    {
     "name": "stdout",
     "output_type": "stream",
     "text": [
      "              precision    recall  f1-score   support\n",
      "\n",
      "           0       1.00      0.97      0.99        36\n",
      "           1       0.92      1.00      0.96        36\n",
      "           2       1.00      1.00      1.00        35\n",
      "           3       0.97      1.00      0.99        37\n",
      "           4       0.97      1.00      0.99        36\n",
      "           5       1.00      1.00      1.00        37\n",
      "           6       1.00      0.97      0.99        36\n",
      "           7       0.95      1.00      0.97        36\n",
      "           8       0.94      0.89      0.91        35\n",
      "           9       1.00      0.92      0.96        36\n",
      "\n",
      "    accuracy                           0.97       360\n",
      "   macro avg       0.98      0.97      0.97       360\n",
      "weighted avg       0.98      0.97      0.97       360\n",
      "\n"
     ]
    }
   ],
   "source": [
    "report = classification_report(y_true=y_test, y_pred=y_pred)\n",
    "print(report)"
   ]
  },
  {
   "cell_type": "markdown",
   "id": "262453aa",
   "metadata": {},
   "source": [
    "**Serialize best fitted pipeline**"
   ]
  },
  {
   "cell_type": "code",
   "execution_count": 19,
   "id": "57bedaa1",
   "metadata": {},
   "outputs": [
    {
     "data": {
      "text/plain": [
       "['models/digit_model.joblib']"
      ]
     },
     "execution_count": 19,
     "metadata": {},
     "output_type": "execute_result"
    }
   ],
   "source": [
    "joblib.dump(value=best_pipeline, filename=\"models/digit_model.joblib\")"
   ]
  },
  {
   "cell_type": "code",
   "execution_count": null,
   "id": "93cef292",
   "metadata": {},
   "outputs": [],
   "source": []
  }
 ],
 "metadata": {
  "kernelspec": {
   "display_name": "Python 3.10.8 ('venv': venv)",
   "language": "python",
   "name": "python3"
  },
  "language_info": {
   "codemirror_mode": {
    "name": "ipython",
    "version": 3
   },
   "file_extension": ".py",
   "mimetype": "text/x-python",
   "name": "python",
   "nbconvert_exporter": "python",
   "pygments_lexer": "ipython3",
   "version": "3.10.8"
  },
  "vscode": {
   "interpreter": {
    "hash": "def37ecffc7465596b7d0654746deca3ec6b3ea1606077a04a8f878484e486cd"
   }
  }
 },
 "nbformat": 4,
 "nbformat_minor": 5
}
